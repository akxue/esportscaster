{
 "cells": [
  {
   "cell_type": "code",
   "execution_count": 8,
   "metadata": {},
   "outputs": [],
   "source": [
    "# http://selenium-python.readthedocs.io/getting-started.html\n",
    "import time \n",
    "from selenium import webdriver\n",
    "from selenium.webdriver.common.keys import Keys\n",
    "from selenium.webdriver.common.by import By\n",
    "from selenium.webdriver.support.ui import WebDriverWait\n",
    "from selenium.webdriver.support import expected_conditions as EC\n",
    "from selenium.webdriver.chrome.options import Options"
   ]
  },
  {
   "cell_type": "code",
   "execution_count": 40,
   "metadata": {},
   "outputs": [],
   "source": [
    "screenshots_dir = '../screenshots/'\n",
    "selenium_path = '../selenium/'\n",
    "driver_path = selenium_path + 'chromedriver'\n",
    "adblock_path = selenium_path + 'adblock/1.500_0/'\n",
    "video_url='https://youtu.be/jrdl3UuTyJE?t=51m42s'"
   ]
  },
  {
   "cell_type": "code",
   "execution_count": 10,
   "metadata": {},
   "outputs": [],
   "source": [
    "#%%bash\n",
    "#mkdir ../screenshots"
   ]
  },
  {
   "cell_type": "code",
   "execution_count": 49,
   "metadata": {},
   "outputs": [
    {
     "name": "stdout",
     "output_type": "stream",
     "text": [
      "<selenium.webdriver.remote.webelement.WebElement (session=\"8a763351314218492d462fe09508dc0d\", element=\"0.9753048519238097-1\")>\n",
      "screenshot 0\n",
      "screenshot 1\n",
      "screenshot 2\n"
     ]
    }
   ],
   "source": [
    "chrome_options = Options()\n",
    "chrome_options.add_argument('load-extension=' + adblock_path)\n",
    "chrome_options.add_argument(\"--window-size=1280,720\")\n",
    "driver = webdriver.Chrome(driver_path, chrome_options=chrome_options) \n",
    "driver.create_options()\n",
    "try:\n",
    "    driver.get(video_url)\n",
    "#     time.sleep(5)\n",
    "#     elem = driver.find_element_by_xpath('//body')\n",
    "    elem = driver.find_element_by_class_name('ytp-fullscreen-button')\n",
    "    print(elem)\n",
    "    time.sleep(3)\n",
    "#     elem.click()\n",
    "#     elem.send_keys('f')\n",
    "#     elem.click()\n",
    "#     time.sleep(5)\n",
    "#     print('ok')\n",
    "#     elem = driver.find_element_by_id('container')\n",
    "#     elem.click()\n",
    "#     elem.send_keys('f')\n",
    "#     elem = driver.switch_to.active_element\n",
    "#     print(elem)\n",
    "#     elem.send_keys('f')\n",
    "#     webdriver.ActionChains(driver).send_keys('f').perform()\n",
    "    time.sleep(3)\n",
    "    driver.save_screenshot(screenshots_dir + 'bla.png')\n",
    "    time.sleep(2)\n",
    "#     elem.click()\n",
    "#     elem.send_keys('f')\n",
    "    webdriver.ActionChains(driver).send_keys('f').perform()\n",
    "    for idx in range(3):\n",
    "        driver.save_screenshot(screenshots_dir + 'lcs' + str(idx) +'.png')\n",
    "        print('screenshot {0}'.format(idx))\n",
    "        time.sleep(3)\n",
    "finally:\n",
    "    driver.quit()"
   ]
  },
  {
   "cell_type": "code",
   "execution_count": null,
   "metadata": {},
   "outputs": [],
   "source": []
  }
 ],
 "metadata": {
  "kernelspec": {
   "display_name": "Python 3",
   "language": "python",
   "name": "python3"
  },
  "language_info": {
   "codemirror_mode": {
    "name": "ipython",
    "version": 3
   },
   "file_extension": ".py",
   "mimetype": "text/x-python",
   "name": "python",
   "nbconvert_exporter": "python",
   "pygments_lexer": "ipython3",
   "version": "3.7.0"
  }
 },
 "nbformat": 4,
 "nbformat_minor": 2
}
